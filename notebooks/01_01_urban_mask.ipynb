{
 "cells": [
  {
   "cell_type": "code",
   "execution_count": null,
   "id": "0f44b699",
   "metadata": {},
   "outputs": [],
   "source": [
    "# Create segmentation model to find paved roads in satellite images\n",
    "# Create segmentation model to find houses/urban areas in satellite images\n",
    "# SegmentAnything works?"
   ]
  }
 ],
 "metadata": {
  "kernelspec": {
   "display_name": "venv",
   "language": "python",
   "name": "python3"
  },
  "language_info": {
   "codemirror_mode": {
    "name": "ipython",
    "version": 3
   },
   "file_extension": ".py",
   "mimetype": "text/x-python",
   "name": "python",
   "nbconvert_exporter": "python",
   "pygments_lexer": "ipython3",
   "version": "3.12.3"
  }
 },
 "nbformat": 4,
 "nbformat_minor": 5
}
