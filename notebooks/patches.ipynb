{
 "cells": [
  {
   "cell_type": "code",
   "execution_count": null,
   "id": "68034161",
   "metadata": {},
   "outputs": [
    {
     "name": "stdout",
     "output_type": "stream",
     "text": [
      "Collecting contextily\n",
      "  Downloading contextily-1.6.2-py3-none-any.whl.metadata (2.9 kB)\n",
      "Collecting geopy (from contextily)\n",
      "  Downloading geopy-2.4.1-py3-none-any.whl.metadata (6.8 kB)\n",
      "Requirement already satisfied: matplotlib in /home/fox/geo-ai-superres/venv/lib/python3.12/site-packages (from contextily) (3.10.3)\n",
      "Collecting mercantile (from contextily)\n",
      "  Downloading mercantile-1.2.1-py3-none-any.whl.metadata (4.8 kB)\n",
      "Requirement already satisfied: pillow in /home/fox/geo-ai-superres/venv/lib/python3.12/site-packages (from contextily) (11.2.1)\n",
      "Collecting rasterio (from contextily)\n",
      "  Downloading rasterio-1.4.3-cp312-cp312-manylinux_2_17_x86_64.manylinux2014_x86_64.whl.metadata (9.1 kB)\n",
      "Requirement already satisfied: requests in /home/fox/geo-ai-superres/venv/lib/python3.12/site-packages (from contextily) (2.32.3)\n",
      "Collecting joblib (from contextily)\n",
      "  Downloading joblib-1.5.0-py3-none-any.whl.metadata (5.6 kB)\n",
      "Collecting xyzservices (from contextily)\n",
      "  Downloading xyzservices-2025.4.0-py3-none-any.whl.metadata (4.3 kB)\n",
      "Collecting geographiclib<3,>=1.52 (from geopy->contextily)\n",
      "  Downloading geographiclib-2.0-py3-none-any.whl.metadata (1.4 kB)\n",
      "Requirement already satisfied: contourpy>=1.0.1 in /home/fox/geo-ai-superres/venv/lib/python3.12/site-packages (from matplotlib->contextily) (1.3.2)\n",
      "Requirement already satisfied: cycler>=0.10 in /home/fox/geo-ai-superres/venv/lib/python3.12/site-packages (from matplotlib->contextily) (0.12.1)\n",
      "Requirement already satisfied: fonttools>=4.22.0 in /home/fox/geo-ai-superres/venv/lib/python3.12/site-packages (from matplotlib->contextily) (4.58.0)\n",
      "Requirement already satisfied: kiwisolver>=1.3.1 in /home/fox/geo-ai-superres/venv/lib/python3.12/site-packages (from matplotlib->contextily) (1.4.8)\n",
      "Requirement already satisfied: numpy>=1.23 in /home/fox/geo-ai-superres/venv/lib/python3.12/site-packages (from matplotlib->contextily) (2.2.5)\n",
      "Requirement already satisfied: packaging>=20.0 in /home/fox/geo-ai-superres/venv/lib/python3.12/site-packages (from matplotlib->contextily) (25.0)\n",
      "Requirement already satisfied: pyparsing>=2.3.1 in /home/fox/geo-ai-superres/venv/lib/python3.12/site-packages (from matplotlib->contextily) (3.2.3)\n",
      "Requirement already satisfied: python-dateutil>=2.7 in /home/fox/geo-ai-superres/venv/lib/python3.12/site-packages (from matplotlib->contextily) (2.9.0.post0)\n",
      "Requirement already satisfied: click>=3.0 in /home/fox/geo-ai-superres/venv/lib/python3.12/site-packages (from mercantile->contextily) (8.2.0)\n",
      "Collecting affine (from rasterio->contextily)\n",
      "  Downloading affine-2.4.0-py3-none-any.whl.metadata (4.0 kB)\n",
      "Collecting attrs (from rasterio->contextily)\n",
      "  Using cached attrs-25.3.0-py3-none-any.whl.metadata (10 kB)\n",
      "Requirement already satisfied: certifi in /home/fox/geo-ai-superres/venv/lib/python3.12/site-packages (from rasterio->contextily) (2025.4.26)\n",
      "Collecting cligj>=0.5 (from rasterio->contextily)\n",
      "  Downloading cligj-0.7.2-py3-none-any.whl.metadata (5.0 kB)\n",
      "Collecting click-plugins (from rasterio->contextily)\n",
      "  Downloading click_plugins-1.1.1-py2.py3-none-any.whl.metadata (6.4 kB)\n",
      "Requirement already satisfied: charset-normalizer<4,>=2 in /home/fox/geo-ai-superres/venv/lib/python3.12/site-packages (from requests->contextily) (3.4.2)\n",
      "Requirement already satisfied: idna<4,>=2.5 in /home/fox/geo-ai-superres/venv/lib/python3.12/site-packages (from requests->contextily) (3.10)\n",
      "Requirement already satisfied: urllib3<3,>=1.21.1 in /home/fox/geo-ai-superres/venv/lib/python3.12/site-packages (from requests->contextily) (2.4.0)\n",
      "Requirement already satisfied: six>=1.5 in /home/fox/geo-ai-superres/venv/lib/python3.12/site-packages (from python-dateutil>=2.7->matplotlib->contextily) (1.17.0)\n",
      "Downloading contextily-1.6.2-py3-none-any.whl (17 kB)\n",
      "Downloading geopy-2.4.1-py3-none-any.whl (125 kB)\n",
      "\u001b[2K   \u001b[90m━━━━━━━━━━━━━━━━━━━━━━━━━━━━━━━━━━━━━━━\u001b[0m \u001b[32m125.4/125.4 kB\u001b[0m \u001b[31m123.8 kB/s\u001b[0m eta \u001b[36m0:00:00\u001b[0ma \u001b[36m0:00:01\u001b[0m\n",
      "\u001b[?25hDownloading joblib-1.5.0-py3-none-any.whl (307 kB)\n",
      "\u001b[2K   \u001b[90m━━━━━━━━━━━━━━━━━━━━━━━━━━━━━━━━━━━━━━━\u001b[0m \u001b[32m307.7/307.7 kB\u001b[0m \u001b[31m181.8 kB/s\u001b[0m eta \u001b[36m0:00:00\u001b[0ma \u001b[36m0:00:01\u001b[0m\n",
      "\u001b[?25hDownloading mercantile-1.2.1-py3-none-any.whl (14 kB)\n",
      "Downloading rasterio-1.4.3-cp312-cp312-manylinux_2_17_x86_64.manylinux2014_x86_64.whl (22.3 MB)\n",
      "\u001b[2K   \u001b[90m━━━━━━━━━━━━━━━━━━━━━━━━━━━━━━━━━━━━━━━━\u001b[0m \u001b[32m22.3/22.3 MB\u001b[0m \u001b[31m4.9 MB/s\u001b[0m eta \u001b[36m0:00:00\u001b[0m00:01\u001b[0m00:01\u001b[0mm\n",
      "\u001b[?25hDownloading xyzservices-2025.4.0-py3-none-any.whl (90 kB)\n",
      "\u001b[2K   \u001b[90m━━━━━━━━━━━━━━━━━━━━━━━━━━━━━━━━━━━━━━━━\u001b[0m \u001b[32m90.4/90.4 kB\u001b[0m \u001b[31m2.3 MB/s\u001b[0m eta \u001b[36m0:00:00\u001b[0ma \u001b[36m0:00:01\u001b[0m\n",
      "\u001b[?25hDownloading cligj-0.7.2-py3-none-any.whl (7.1 kB)\n",
      "Downloading geographiclib-2.0-py3-none-any.whl (40 kB)\n",
      "\u001b[2K   \u001b[90m━━━━━━━━━━━━━━━━━━━━━━━━━━━━━━━━━━━━━━━━\u001b[0m \u001b[32m40.3/40.3 kB\u001b[0m \u001b[31m1.2 MB/s\u001b[0m eta \u001b[36m0:00:00\u001b[0m\n",
      "\u001b[?25hDownloading affine-2.4.0-py3-none-any.whl (15 kB)\n",
      "Using cached attrs-25.3.0-py3-none-any.whl (63 kB)\n",
      "Downloading click_plugins-1.1.1-py2.py3-none-any.whl (7.5 kB)\n",
      "Installing collected packages: xyzservices, mercantile, joblib, geographiclib, cligj, click-plugins, attrs, affine, rasterio, geopy, contextily\n",
      "Successfully installed affine-2.4.0 attrs-25.3.0 click-plugins-1.1.1 cligj-0.7.2 contextily-1.6.2 geographiclib-2.0 geopy-2.4.1 joblib-1.5.0 mercantile-1.2.1 rasterio-1.4.3 xyzservices-2025.4.0\n",
      "Note: you may need to restart the kernel to use updated packages.\n"
     ]
    }
   ],
   "source": [
    "# pip install contextily"
   ]
  },
  {
   "cell_type": "code",
   "execution_count": null,
   "id": "8fefe841",
   "metadata": {},
   "outputs": [],
   "source": []
  }
 ],
 "metadata": {
  "kernelspec": {
   "display_name": "venv",
   "language": "python",
   "name": "python3"
  },
  "language_info": {
   "codemirror_mode": {
    "name": "ipython",
    "version": 3
   },
   "file_extension": ".py",
   "mimetype": "text/x-python",
   "name": "python",
   "nbconvert_exporter": "python",
   "pygments_lexer": "ipython3",
   "version": "3.12.3"
  }
 },
 "nbformat": 4,
 "nbformat_minor": 5
}
